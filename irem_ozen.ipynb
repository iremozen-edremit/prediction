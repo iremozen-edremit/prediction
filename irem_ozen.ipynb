{
 "cells": [
  {
   "cell_type": "code",
   "execution_count": 385,
   "metadata": {},
   "outputs": [],
   "source": [
    "import pandas as pd  \n",
    "import numpy as np\n",
    "from sklearn.model_selection import train_test_split\n",
    "from sklearn.feature_extraction.text import CountVectorizer\n",
    "from sklearn.naive_bayes import MultinomialNB\n",
    "from sklearn import metrics"
   ]
  },
  {
   "cell_type": "code",
   "execution_count": 386,
   "metadata": {},
   "outputs": [
    {
     "data": {
      "text/html": [
       "<div>\n",
       "<style scoped>\n",
       "    .dataframe tbody tr th:only-of-type {\n",
       "        vertical-align: middle;\n",
       "    }\n",
       "\n",
       "    .dataframe tbody tr th {\n",
       "        vertical-align: top;\n",
       "    }\n",
       "\n",
       "    .dataframe thead th {\n",
       "        text-align: right;\n",
       "    }\n",
       "</style>\n",
       "<table border=\"1\" class=\"dataframe\">\n",
       "  <thead>\n",
       "    <tr style=\"text-align: right;\">\n",
       "      <th></th>\n",
       "      <th>Identifier</th>\n",
       "      <th>Company Name</th>\n",
       "      <th>Business Description</th>\n",
       "      <th>TRBC Economic Sector Name</th>\n",
       "    </tr>\n",
       "  </thead>\n",
       "  <tbody>\n",
       "    <tr>\n",
       "      <th>0</th>\n",
       "      <td>CMI.N</td>\n",
       "      <td>Cummins Inc</td>\n",
       "      <td>Cummins Inc. designs, manufactures, distribute...</td>\n",
       "      <td>Consumer Cyclicals</td>\n",
       "    </tr>\n",
       "    <tr>\n",
       "      <th>1</th>\n",
       "      <td>RIO.L</td>\n",
       "      <td>Rio Tinto PLC</td>\n",
       "      <td>Rio Tinto plc is a mining and metals company. ...</td>\n",
       "      <td>Basic Materials</td>\n",
       "    </tr>\n",
       "    <tr>\n",
       "      <th>2</th>\n",
       "      <td>RIO.AX</td>\n",
       "      <td>Rio Tinto Ltd</td>\n",
       "      <td>Rio Tinto Limited (Rio Tinto) is a mining comp...</td>\n",
       "      <td>Basic Materials</td>\n",
       "    </tr>\n",
       "    <tr>\n",
       "      <th>3</th>\n",
       "      <td>RDSa.AS</td>\n",
       "      <td>Royal Dutch Shell PLC</td>\n",
       "      <td>The Royal Dutch Shell plc explores for crude o...</td>\n",
       "      <td>Energy</td>\n",
       "    </tr>\n",
       "    <tr>\n",
       "      <th>4</th>\n",
       "      <td>BLT.L</td>\n",
       "      <td>BHP Billiton PLC</td>\n",
       "      <td>BHP Billiton Plc is a global resources company...</td>\n",
       "      <td>Basic Materials</td>\n",
       "    </tr>\n",
       "    <tr>\n",
       "      <th>5</th>\n",
       "      <td>BHP.AX</td>\n",
       "      <td>BHP Billiton Ltd</td>\n",
       "      <td>BHP Billiton Limited is a global resources com...</td>\n",
       "      <td>Basic Materials</td>\n",
       "    </tr>\n",
       "    <tr>\n",
       "      <th>6</th>\n",
       "      <td>PETR4.SA</td>\n",
       "      <td>Petroleo Brasileiro SA Petrobras</td>\n",
       "      <td>Petroleo Brasileiro S.A.-Petrobras specializes...</td>\n",
       "      <td>Energy</td>\n",
       "    </tr>\n",
       "    <tr>\n",
       "      <th>7</th>\n",
       "      <td>TOTF.PA</td>\n",
       "      <td>Total SA</td>\n",
       "      <td>Total S.A. (Total) is an oil and gas company. ...</td>\n",
       "      <td>Energy</td>\n",
       "    </tr>\n",
       "    <tr>\n",
       "      <th>8</th>\n",
       "      <td>7203.T</td>\n",
       "      <td>Toyota Motor Corp</td>\n",
       "      <td>Toyota Motor Corporation (Toyota) conducts bus...</td>\n",
       "      <td>Consumer Cyclicals</td>\n",
       "    </tr>\n",
       "    <tr>\n",
       "      <th>9</th>\n",
       "      <td>BP.L</td>\n",
       "      <td>BP PLC</td>\n",
       "      <td>BP p.l.c. is an integrated oil and gas company...</td>\n",
       "      <td>Energy</td>\n",
       "    </tr>\n",
       "  </tbody>\n",
       "</table>\n",
       "</div>"
      ],
      "text/plain": [
       "  Identifier                      Company Name  \\\n",
       "0      CMI.N                       Cummins Inc   \n",
       "1      RIO.L                     Rio Tinto PLC   \n",
       "2     RIO.AX                     Rio Tinto Ltd   \n",
       "3    RDSa.AS             Royal Dutch Shell PLC   \n",
       "4      BLT.L                  BHP Billiton PLC   \n",
       "5     BHP.AX                  BHP Billiton Ltd   \n",
       "6   PETR4.SA  Petroleo Brasileiro SA Petrobras   \n",
       "7    TOTF.PA                          Total SA   \n",
       "8     7203.T                 Toyota Motor Corp   \n",
       "9       BP.L                            BP PLC   \n",
       "\n",
       "                                Business Description TRBC Economic Sector Name  \n",
       "0  Cummins Inc. designs, manufactures, distribute...        Consumer Cyclicals  \n",
       "1  Rio Tinto plc is a mining and metals company. ...           Basic Materials  \n",
       "2  Rio Tinto Limited (Rio Tinto) is a mining comp...           Basic Materials  \n",
       "3  The Royal Dutch Shell plc explores for crude o...                    Energy  \n",
       "4  BHP Billiton Plc is a global resources company...           Basic Materials  \n",
       "5  BHP Billiton Limited is a global resources com...           Basic Materials  \n",
       "6  Petroleo Brasileiro S.A.-Petrobras specializes...                    Energy  \n",
       "7  Total S.A. (Total) is an oil and gas company. ...                    Energy  \n",
       "8  Toyota Motor Corporation (Toyota) conducts bus...        Consumer Cyclicals  \n",
       "9  BP p.l.c. is an integrated oil and gas company...                    Energy  "
      ]
     },
     "execution_count": 386,
     "metadata": {},
     "output_type": "execute_result"
    }
   ],
   "source": [
    "trbc1 = pd.read_excel('Data_ML.xlsx')\n",
    "trbc1.head(10)"
   ]
  },
  {
   "cell_type": "code",
   "execution_count": 387,
   "metadata": {},
   "outputs": [
    {
     "data": {
      "text/plain": [
       "(23036, 4)"
      ]
     },
     "execution_count": 387,
     "metadata": {},
     "output_type": "execute_result"
    }
   ],
   "source": [
    "trbc1.shape"
   ]
  },
  {
   "cell_type": "code",
   "execution_count": 388,
   "metadata": {},
   "outputs": [
    {
     "data": {
      "text/plain": [
       "Identifier                    0\n",
       "Company Name                  0\n",
       "Business Description         14\n",
       "TRBC Economic Sector Name     0\n",
       "dtype: int64"
      ]
     },
     "execution_count": 388,
     "metadata": {},
     "output_type": "execute_result"
    }
   ],
   "source": [
    "trbc1.isnull().sum()"
   ]
  },
  {
   "cell_type": "code",
   "execution_count": 389,
   "metadata": {},
   "outputs": [
    {
     "data": {
      "text/plain": [
       "(23022, 4)"
      ]
     },
     "execution_count": 389,
     "metadata": {},
     "output_type": "execute_result"
    }
   ],
   "source": [
    "trbc = trbc1.dropna()\n",
    "trbc.shape"
   ]
  },
  {
   "cell_type": "code",
   "execution_count": 390,
   "metadata": {},
   "outputs": [
    {
     "data": {
      "text/html": [
       "<div>\n",
       "<style scoped>\n",
       "    .dataframe tbody tr th:only-of-type {\n",
       "        vertical-align: middle;\n",
       "    }\n",
       "\n",
       "    .dataframe tbody tr th {\n",
       "        vertical-align: top;\n",
       "    }\n",
       "\n",
       "    .dataframe thead th {\n",
       "        text-align: right;\n",
       "    }\n",
       "</style>\n",
       "<table border=\"1\" class=\"dataframe\">\n",
       "  <thead>\n",
       "    <tr style=\"text-align: right;\">\n",
       "      <th></th>\n",
       "      <th>Identifier</th>\n",
       "      <th>Company Name</th>\n",
       "      <th>Business Description</th>\n",
       "    </tr>\n",
       "    <tr>\n",
       "      <th>TRBC Economic Sector Name</th>\n",
       "      <th></th>\n",
       "      <th></th>\n",
       "      <th></th>\n",
       "    </tr>\n",
       "  </thead>\n",
       "  <tbody>\n",
       "    <tr>\n",
       "      <th>Basic Materials</th>\n",
       "      <td>2483</td>\n",
       "      <td>2483</td>\n",
       "      <td>2483</td>\n",
       "    </tr>\n",
       "    <tr>\n",
       "      <th>Consumer Cyclicals</th>\n",
       "      <td>3617</td>\n",
       "      <td>3617</td>\n",
       "      <td>3617</td>\n",
       "    </tr>\n",
       "    <tr>\n",
       "      <th>Consumer Non-Cyclicals</th>\n",
       "      <td>1735</td>\n",
       "      <td>1735</td>\n",
       "      <td>1735</td>\n",
       "    </tr>\n",
       "    <tr>\n",
       "      <th>Energy</th>\n",
       "      <td>1062</td>\n",
       "      <td>1062</td>\n",
       "      <td>1062</td>\n",
       "    </tr>\n",
       "    <tr>\n",
       "      <th>Financials</th>\n",
       "      <td>4743</td>\n",
       "      <td>4743</td>\n",
       "      <td>4743</td>\n",
       "    </tr>\n",
       "    <tr>\n",
       "      <th>Healthcare</th>\n",
       "      <td>1770</td>\n",
       "      <td>1770</td>\n",
       "      <td>1770</td>\n",
       "    </tr>\n",
       "    <tr>\n",
       "      <th>Industrials</th>\n",
       "      <td>4049</td>\n",
       "      <td>4049</td>\n",
       "      <td>4049</td>\n",
       "    </tr>\n",
       "    <tr>\n",
       "      <th>Technology</th>\n",
       "      <td>2592</td>\n",
       "      <td>2592</td>\n",
       "      <td>2592</td>\n",
       "    </tr>\n",
       "    <tr>\n",
       "      <th>Telecommunications Services</th>\n",
       "      <td>307</td>\n",
       "      <td>307</td>\n",
       "      <td>307</td>\n",
       "    </tr>\n",
       "    <tr>\n",
       "      <th>Utilities</th>\n",
       "      <td>664</td>\n",
       "      <td>664</td>\n",
       "      <td>664</td>\n",
       "    </tr>\n",
       "  </tbody>\n",
       "</table>\n",
       "</div>"
      ],
      "text/plain": [
       "                             Identifier  Company Name  Business Description\n",
       "TRBC Economic Sector Name                                                  \n",
       "Basic Materials                    2483          2483                  2483\n",
       "Consumer Cyclicals                 3617          3617                  3617\n",
       "Consumer Non-Cyclicals             1735          1735                  1735\n",
       "Energy                             1062          1062                  1062\n",
       "Financials                         4743          4743                  4743\n",
       "Healthcare                         1770          1770                  1770\n",
       "Industrials                        4049          4049                  4049\n",
       "Technology                         2592          2592                  2592\n",
       "Telecommunications Services         307           307                   307\n",
       "Utilities                           664           664                   664"
      ]
     },
     "execution_count": 390,
     "metadata": {},
     "output_type": "execute_result"
    }
   ],
   "source": [
    "trbc.groupby('TRBC Economic Sector Name').count()"
   ]
  },
  {
   "cell_type": "code",
   "execution_count": 391,
   "metadata": {},
   "outputs": [
    {
     "name": "stderr",
     "output_type": "stream",
     "text": [
      "/home/iremu/anaconda3/lib/python3.6/site-packages/ipykernel_launcher.py:2: SettingWithCopyWarning: \n",
      "A value is trying to be set on a copy of a slice from a DataFrame.\n",
      "Try using .loc[row_indexer,col_indexer] = value instead\n",
      "\n",
      "See the caveats in the documentation: http://pandas.pydata.org/pandas-docs/stable/indexing.html#indexing-view-versus-copy\n",
      "  \n",
      "/home/iremu/anaconda3/lib/python3.6/site-packages/ipykernel_launcher.py:4: SettingWithCopyWarning: \n",
      "A value is trying to be set on a copy of a slice from a DataFrame.\n",
      "Try using .loc[row_indexer,col_indexer] = value instead\n",
      "\n",
      "See the caveats in the documentation: http://pandas.pydata.org/pandas-docs/stable/indexing.html#indexing-view-versus-copy\n",
      "  after removing the cwd from sys.path.\n"
     ]
    }
   ],
   "source": [
    "# remove punctuations\n",
    "trbc['Business Description'] = trbc['Business Description'].str.replace('[^\\w\\s]','')\n",
    "\n",
    "trbc['Business Description'] = trbc['Business Description'].str.lower()"
   ]
  },
  {
   "cell_type": "code",
   "execution_count": 392,
   "metadata": {},
   "outputs": [
    {
     "name": "stderr",
     "output_type": "stream",
     "text": [
      "/home/iremu/anaconda3/lib/python3.6/site-packages/ipykernel_launcher.py:6: SettingWithCopyWarning: \n",
      "A value is trying to be set on a copy of a slice from a DataFrame.\n",
      "Try using .loc[row_indexer,col_indexer] = value instead\n",
      "\n",
      "See the caveats in the documentation: http://pandas.pydata.org/pandas-docs/stable/indexing.html#indexing-view-versus-copy\n",
      "  \n"
     ]
    }
   ],
   "source": [
    "#mapping sector names  \n",
    "sector_name = {\"Basic Materials\":0 ,\"Consumer Cyclicals\":1, \"Consumer Non-Cyclicals\":2,\n",
    "               \"Energy\":3 ,\"Financials\":4 ,\"Healthcare\":5, \"Industrials\":6, \"Technology\":7,\n",
    "               \"Telecommunications Services\":8 ,\"Utilities\":9 }\n",
    "\n",
    "trbc['TRBC Economic Sector Name'] = trbc['TRBC Economic Sector Name'].map(sector_name)"
   ]
  },
  {
   "cell_type": "code",
   "execution_count": 393,
   "metadata": {},
   "outputs": [
    {
     "data": {
      "text/html": [
       "<div>\n",
       "<style scoped>\n",
       "    .dataframe tbody tr th:only-of-type {\n",
       "        vertical-align: middle;\n",
       "    }\n",
       "\n",
       "    .dataframe tbody tr th {\n",
       "        vertical-align: top;\n",
       "    }\n",
       "\n",
       "    .dataframe thead th {\n",
       "        text-align: right;\n",
       "    }\n",
       "</style>\n",
       "<table border=\"1\" class=\"dataframe\">\n",
       "  <thead>\n",
       "    <tr style=\"text-align: right;\">\n",
       "      <th></th>\n",
       "      <th>Identifier</th>\n",
       "      <th>Company Name</th>\n",
       "      <th>Business Description</th>\n",
       "      <th>TRBC Economic Sector Name</th>\n",
       "    </tr>\n",
       "  </thead>\n",
       "  <tbody>\n",
       "    <tr>\n",
       "      <th>0</th>\n",
       "      <td>CMI.N</td>\n",
       "      <td>Cummins Inc</td>\n",
       "      <td>cummins inc designs manufactures distributes a...</td>\n",
       "      <td>1</td>\n",
       "    </tr>\n",
       "    <tr>\n",
       "      <th>1</th>\n",
       "      <td>RIO.L</td>\n",
       "      <td>Rio Tinto PLC</td>\n",
       "      <td>rio tinto plc is a mining and metals company t...</td>\n",
       "      <td>0</td>\n",
       "    </tr>\n",
       "    <tr>\n",
       "      <th>2</th>\n",
       "      <td>RIO.AX</td>\n",
       "      <td>Rio Tinto Ltd</td>\n",
       "      <td>rio tinto limited rio tinto is a mining compan...</td>\n",
       "      <td>0</td>\n",
       "    </tr>\n",
       "    <tr>\n",
       "      <th>3</th>\n",
       "      <td>RDSa.AS</td>\n",
       "      <td>Royal Dutch Shell PLC</td>\n",
       "      <td>the royal dutch shell plc explores for crude o...</td>\n",
       "      <td>3</td>\n",
       "    </tr>\n",
       "    <tr>\n",
       "      <th>4</th>\n",
       "      <td>BLT.L</td>\n",
       "      <td>BHP Billiton PLC</td>\n",
       "      <td>bhp billiton plc is a global resources company...</td>\n",
       "      <td>0</td>\n",
       "    </tr>\n",
       "    <tr>\n",
       "      <th>5</th>\n",
       "      <td>BHP.AX</td>\n",
       "      <td>BHP Billiton Ltd</td>\n",
       "      <td>bhp billiton limited is a global resources com...</td>\n",
       "      <td>0</td>\n",
       "    </tr>\n",
       "    <tr>\n",
       "      <th>6</th>\n",
       "      <td>PETR4.SA</td>\n",
       "      <td>Petroleo Brasileiro SA Petrobras</td>\n",
       "      <td>petroleo brasileiro sapetrobras specializes in...</td>\n",
       "      <td>3</td>\n",
       "    </tr>\n",
       "    <tr>\n",
       "      <th>7</th>\n",
       "      <td>TOTF.PA</td>\n",
       "      <td>Total SA</td>\n",
       "      <td>total sa total is an oil and gas company the c...</td>\n",
       "      <td>3</td>\n",
       "    </tr>\n",
       "    <tr>\n",
       "      <th>8</th>\n",
       "      <td>7203.T</td>\n",
       "      <td>Toyota Motor Corp</td>\n",
       "      <td>toyota motor corporation toyota conducts busin...</td>\n",
       "      <td>1</td>\n",
       "    </tr>\n",
       "    <tr>\n",
       "      <th>9</th>\n",
       "      <td>BP.L</td>\n",
       "      <td>BP PLC</td>\n",
       "      <td>bp plc is an integrated oil and gas company th...</td>\n",
       "      <td>3</td>\n",
       "    </tr>\n",
       "  </tbody>\n",
       "</table>\n",
       "</div>"
      ],
      "text/plain": [
       "  Identifier                      Company Name  \\\n",
       "0      CMI.N                       Cummins Inc   \n",
       "1      RIO.L                     Rio Tinto PLC   \n",
       "2     RIO.AX                     Rio Tinto Ltd   \n",
       "3    RDSa.AS             Royal Dutch Shell PLC   \n",
       "4      BLT.L                  BHP Billiton PLC   \n",
       "5     BHP.AX                  BHP Billiton Ltd   \n",
       "6   PETR4.SA  Petroleo Brasileiro SA Petrobras   \n",
       "7    TOTF.PA                          Total SA   \n",
       "8     7203.T                 Toyota Motor Corp   \n",
       "9       BP.L                            BP PLC   \n",
       "\n",
       "                                Business Description  \\\n",
       "0  cummins inc designs manufactures distributes a...   \n",
       "1  rio tinto plc is a mining and metals company t...   \n",
       "2  rio tinto limited rio tinto is a mining compan...   \n",
       "3  the royal dutch shell plc explores for crude o...   \n",
       "4  bhp billiton plc is a global resources company...   \n",
       "5  bhp billiton limited is a global resources com...   \n",
       "6  petroleo brasileiro sapetrobras specializes in...   \n",
       "7  total sa total is an oil and gas company the c...   \n",
       "8  toyota motor corporation toyota conducts busin...   \n",
       "9  bp plc is an integrated oil and gas company th...   \n",
       "\n",
       "   TRBC Economic Sector Name  \n",
       "0                          1  \n",
       "1                          0  \n",
       "2                          0  \n",
       "3                          3  \n",
       "4                          0  \n",
       "5                          0  \n",
       "6                          3  \n",
       "7                          3  \n",
       "8                          1  \n",
       "9                          3  "
      ]
     },
     "execution_count": 393,
     "metadata": {},
     "output_type": "execute_result"
    }
   ],
   "source": [
    "trbc.head(10)"
   ]
  },
  {
   "cell_type": "code",
   "execution_count": 394,
   "metadata": {},
   "outputs": [],
   "source": [
    "x = trbc['Business Description']\n",
    "y = trbc['TRBC Economic Sector Name']"
   ]
  },
  {
   "cell_type": "code",
   "execution_count": 395,
   "metadata": {},
   "outputs": [],
   "source": [
    "#split the data into a training dataset and a test dataset \n",
    "x_train, x_test, y_train, y_test = train_test_split(x, y, test_size = 0.2 , random_state=4)"
   ]
  },
  {
   "cell_type": "code",
   "execution_count": 396,
   "metadata": {},
   "outputs": [
    {
     "name": "stdout",
     "output_type": "stream",
     "text": [
      "(18417,) (18417,) (4605,) (4605,)\n"
     ]
    }
   ],
   "source": [
    "print(x_train.shape, y_train.shape, x_test.shape, y_test.shape)\n"
   ]
  },
  {
   "cell_type": "code",
   "execution_count": 397,
   "metadata": {},
   "outputs": [],
   "source": [
    "#Vectorization\n",
    "vectorizer = CountVectorizer(ngram_range=(1,3),stop_words='english')  #(1,4) is not run on my comp. because of my RAM\n",
    "x_train_vector =  vectorizer.fit_transform(x_train)\n",
    "x_test_vector = vectorizer.transform(x_test)"
   ]
  },
  {
   "cell_type": "code",
   "execution_count": 400,
   "metadata": {},
   "outputs": [],
   "source": [
    "#x_train.iloc[0]"
   ]
  },
  {
   "cell_type": "code",
   "execution_count": 401,
   "metadata": {},
   "outputs": [],
   "source": [
    "#y_train.head(10)"
   ]
  },
  {
   "cell_type": "markdown",
   "metadata": {},
   "source": [
    "# Multinomial Naive Bayes"
   ]
  },
  {
   "cell_type": "code",
   "execution_count": 402,
   "metadata": {},
   "outputs": [
    {
     "data": {
      "text/plain": [
       "MultinomialNB(alpha=1.0, class_prior=None, fit_prior=True)"
      ]
     },
     "execution_count": 402,
     "metadata": {},
     "output_type": "execute_result"
    }
   ],
   "source": [
    "# Multinomial Naive Bayes model for text classification\n",
    "classifier = MultinomialNB()\n",
    "\n",
    "# train the model \n",
    "classifier.fit(x_train_vector, y_train)"
   ]
  },
  {
   "cell_type": "code",
   "execution_count": 403,
   "metadata": {},
   "outputs": [
    {
     "data": {
      "text/plain": [
       "0.961720149861541"
      ]
     },
     "execution_count": 403,
     "metadata": {},
     "output_type": "execute_result"
    }
   ],
   "source": [
    "# training data predictions\n",
    "y_train_pred = classifier.predict(x_train_vector)\n",
    "\n",
    "# accuracy of training data predictions\n",
    "metrics.accuracy_score(y_train, y_train_pred)\n",
    "#classifier.score(x_train_vector, y_train)"
   ]
  },
  {
   "cell_type": "code",
   "execution_count": 404,
   "metadata": {},
   "outputs": [
    {
     "data": {
      "text/plain": [
       "0.7252985884907709"
      ]
     },
     "execution_count": 404,
     "metadata": {},
     "output_type": "execute_result"
    }
   ],
   "source": [
    "y_test_pred= classifier.predict(x_test_vector)\n",
    "metrics.accuracy_score(y_test, y_test_pred)"
   ]
  },
  {
   "cell_type": "code",
   "execution_count": 405,
   "metadata": {},
   "outputs": [],
   "source": [
    "#metrics.confusion_matrix(y_test, y_pred_test)"
   ]
  },
  {
   "cell_type": "code",
   "execution_count": 406,
   "metadata": {},
   "outputs": [
    {
     "name": "stdout",
     "output_type": "stream",
     "text": [
      "prediction: [4]\n",
      "actual:  4\n",
      "text: banco internacional sa is a guatemalabased universal bank the bank provides financial services to individual customers and businesses its product range comprises savings accounts time deposits credit and debit cards mortgages as well as consumer and commercial loans among others the bank distributes also life property and casualty insurance policies underwritten by a number of insurance companies such as aig mapfre intervalores and panamerican life furthermore it provides an online access to bank accounts which enables to transfer money pay bills check current balance and change passwords among others the bank offers a loyalty program for customers who uses its payment card the loyalty program includes discounts for services delivered by cooperating companies\n"
     ]
    }
   ],
   "source": [
    "actual = np.array(y_test)\n",
    "print('prediction:', classifier.predict(x_test_vector[5]))\n",
    "print('actual: ', actual[5])\n",
    "print('text:', x_test.iloc[5] )"
   ]
  },
  {
   "cell_type": "code",
   "execution_count": null,
   "metadata": {},
   "outputs": [],
   "source": []
  },
  {
   "cell_type": "code",
   "execution_count": null,
   "metadata": {},
   "outputs": [],
   "source": []
  }
 ],
 "metadata": {
  "kernelspec": {
   "display_name": "Python 3",
   "language": "python",
   "name": "python3"
  },
  "language_info": {
   "codemirror_mode": {
    "name": "ipython",
    "version": 3
   },
   "file_extension": ".py",
   "mimetype": "text/x-python",
   "name": "python",
   "nbconvert_exporter": "python",
   "pygments_lexer": "ipython3",
   "version": "3.6.5"
  }
 },
 "nbformat": 4,
 "nbformat_minor": 2
}
